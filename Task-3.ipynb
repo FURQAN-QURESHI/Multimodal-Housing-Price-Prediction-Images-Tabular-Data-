{
 "cells": [
  {
   "cell_type": "code",
   "execution_count": null,
   "id": "c3078a12",
   "metadata": {},
   "outputs": [],
   "source": [
    "from datasets import load_dataset\n",
    "\n",
    "dataset = load_dataset(\"mistag/real-estate-image-dataset.csv\")\n",
    "print(dataset)\n",
    "print(dataset['train'].features)"
   ]
  },
  {
   "cell_type": "code",
   "execution_count": null,
   "id": "a66b5d85",
   "metadata": {},
   "outputs": [],
   "source": [
    "import pandas as pd\n",
    "\n",
    "df = dataset['train'].to_pandas()\n",
    "print(df.columns)\n",
    "df.head()"
   ]
  },
  {
   "cell_type": "code",
   "execution_count": null,
   "id": "6d375313",
   "metadata": {},
   "outputs": [],
   "source": [
    "from sklearn.model_selection import train_test_split\n",
    "from sklearn.preprocessing import StandardScaler\n",
    "\n",
    "features = ['bedrooms', 'bathrooms', 'area']  # Update to match your dataset columns\n",
    "\n",
    "target = 'price'\n",
    "df = df.dropna(subset=features + [target, 'image'])\n",
    "\n",
    "X_tab = df[features]\n",
    "y = df[target]\n",
    "images = df['image']\n",
    "\n",
    "X_train_tab, X_test_tab, y_train, y_test, img_train, img_test = train_test_split(\n",
    "    X_tab, y, images, test_size=0.2, random_state=42\n",
    ")\n",
    "\n",
    "scaler = StandardScaler()\n",
    "X_train_tab_scaled = scaler.fit_transform(X_train_tab)\n",
    "X_test_tab_scaled = scaler.transform(X_test_tab)"
   ]
  },
  {
   "cell_type": "code",
   "execution_count": null,
   "id": "04931154",
   "metadata": {},
   "outputs": [],
   "source": [
    "import torch\n",
    "from torchvision import models, transforms\n",
    "from PIL import Image\n",
    "import numpy as np\n",
    "\n",
    "img_transform = transforms.Compose([\n",
    "    transforms.Resize((224, 224)),\n",
    "    transforms.ToTensor(),\n",
    "    transforms.Normalize([0.485, 0.456, 0.406], [0.229, 0.224, 0.225])\n",
    "])\n",
    "\n",
    "resnet = models.resnet18(pretrained=True)\n",
    "resnet = torch.nn.Sequential(*(list(resnet.children())[:-1]))\n",
    "resnet.eval()\n",
    "\n",
    "def extract_img_feature(img):\n",
    "    if isinstance(img, str):\n",
    "        img = Image.open(img).convert('RGB')\n",
    "    elif not isinstance(img, Image.Image):\n",
    "        img = Image.fromarray(img)\n",
    "    img_t = img_transform(img).unsqueeze(0)\n",
    "    with torch.no_grad():\n",
    "        feat = resnet(img_t)\n",
    "    return feat.flatten().numpy()\n",
    "\n",
    "def batch_img_features(img_series):\n",
    "    feats = []\n",
    "    for img in img_series:\n",
    "        try:\n",
    "            feats.append(extract_img_feature(img))\n",
    "        except Exception:\n",
    "            feats.append(np.zeros(512))\n",
    "    return np.array(feats)\n",
    "\n",
    "X_train_img_feats = batch_img_features(img_train)\n",
    "X_test_img_feats = batch_img_features(img_test)"
   ]
  },
  {
   "cell_type": "code",
   "execution_count": null,
   "id": "85b714c3",
   "metadata": {},
   "outputs": [],
   "source": [
    "X_train_all = np.concatenate([X_train_tab_scaled, X_train_img_feats], axis=1)\n",
    "X_test_all = np.concatenate([X_test_tab_scaled, X_test_img_feats], axis=1)"
   ]
  },
  {
   "cell_type": "code",
   "execution_count": null,
   "id": "df9d7db2",
   "metadata": {},
   "outputs": [],
   "source": [
    "from sklearn.ensemble import RandomForestRegressor\n",
    "from sklearn.metrics import mean_absolute_error, mean_squared_error\n",
    "\n",
    "reg = RandomForestRegressor(n_estimators=100, random_state=42)\n",
    "reg.fit(X_train_all, y_train)\n",
    "\n",
    "y_pred = reg.predict(X_test_all)\n",
    "\n",
    "mae = mean_absolute_error(y_test, y_pred)\n",
    "rmse = np.sqrt(mean_squared_error(y_test, y_pred))\n",
    "print(f\"MAE: {mae:.2f}\")\n",
    "print(f\"RMSE: {rmse:.2f}\")"
   ]
  },
  {
   "cell_type": "code",
   "execution_count": null,
   "id": "ce4f058e",
   "metadata": {},
   "outputs": [],
   "source": [
    "import joblib\n",
    "joblib.dump(reg, \"house_price_rf.joblib\")"
   ]
  },
  {
   "cell_type": "code",
   "execution_count": null,
   "id": "259de5b1",
   "metadata": {},
   "outputs": [],
   "source": [
    "import matplotlib.pyplot as plt\n",
    "plt.figure(figsize=(6,6))\n",
    "plt.scatter(y_test, y_pred, alpha=0.5)\n",
    "plt.xlabel('Actual Price')\n",
    "plt.ylabel('Predicted Price')\n",
    "plt.title('Predicted vs Actual Prices')\n",
    "plt.plot([y_test.min(), y_test.max()], [y_test.min(), y_test.max()], 'r--')\n",
    "plt.show()"
   ]
  }
 ],
 "metadata": {
  "language_info": {
   "name": "python"
  }
 },
 "nbformat": 4,
 "nbformat_minor": 5
}
